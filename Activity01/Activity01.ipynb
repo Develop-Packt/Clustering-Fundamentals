{
 "cells": [
  {
   "cell_type": "code",
   "execution_count": 1,
   "metadata": {},
   "outputs": [],
   "source": [
    "import pandas as pd\n",
    "file_url = 'https://raw.githubusercontent.com/PacktWorkshops/The-Applied-Artificial-Intelligence-Workshop/master/Datasets/Sales_Transactions_Dataset_Weekly.csv'\n",
    "df = pd.read_csv(file_url)\n",
    "df2 = df.drop(df.iloc[:, 0:55], inplace = False, axis = 1)\n",
    "from sklearn.cluster import KMeans\n",
    "k_means_model = KMeans(n_clusters=8, random_state=8)\n",
    "k_means_model.fit(df2)\n",
    "labels = k_means_model.labels_\n",
    "df.drop(df.iloc[:, 53:], inplace = True, axis = 1)\n",
    "df.drop('Product_Code', inplace = True, axis = 1)\n",
    "df['label'] = labels\n",
    "df_agg = df.groupby('label').sum()\n",
    "df_final = df[['label','W0']].groupby('label').count()\n",
    "df_final=df_final.rename(columns = {'W0':'count_product'})\n",
    "df_final['total_sales'] = df_agg.sum(axis = 1)\n",
    "df_final['yearly_average_sales']= df_final['total_sales'] / df_final['count_product']\n",
    "df_final.sort_values(by='yearly_average_sales', ascending=False, inplace = True)"
   ]
  },
  {
   "cell_type": "code",
   "execution_count": 2,
   "metadata": {},
   "outputs": [
    {
     "data": {
      "text/html": [
       "<div>\n",
       "<style scoped>\n",
       "    .dataframe tbody tr th:only-of-type {\n",
       "        vertical-align: middle;\n",
       "    }\n",
       "\n",
       "    .dataframe tbody tr th {\n",
       "        vertical-align: top;\n",
       "    }\n",
       "\n",
       "    .dataframe thead th {\n",
       "        text-align: right;\n",
       "    }\n",
       "</style>\n",
       "<table border=\"1\" class=\"dataframe\">\n",
       "  <thead>\n",
       "    <tr style=\"text-align: right;\">\n",
       "      <th></th>\n",
       "      <th>count_product</th>\n",
       "      <th>total_sales</th>\n",
       "      <th>yearly_average_sales</th>\n",
       "    </tr>\n",
       "    <tr>\n",
       "      <th>label</th>\n",
       "      <th></th>\n",
       "      <th></th>\n",
       "      <th></th>\n",
       "    </tr>\n",
       "  </thead>\n",
       "  <tbody>\n",
       "    <tr>\n",
       "      <td>3</td>\n",
       "      <td>115</td>\n",
       "      <td>162668</td>\n",
       "      <td>1414.504348</td>\n",
       "    </tr>\n",
       "    <tr>\n",
       "      <td>4</td>\n",
       "      <td>113</td>\n",
       "      <td>86037</td>\n",
       "      <td>761.389381</td>\n",
       "    </tr>\n",
       "    <tr>\n",
       "      <td>0</td>\n",
       "      <td>109</td>\n",
       "      <td>57020</td>\n",
       "      <td>523.119266</td>\n",
       "    </tr>\n",
       "    <tr>\n",
       "      <td>2</td>\n",
       "      <td>87</td>\n",
       "      <td>39940</td>\n",
       "      <td>459.080460</td>\n",
       "    </tr>\n",
       "    <tr>\n",
       "      <td>7</td>\n",
       "      <td>88</td>\n",
       "      <td>21213</td>\n",
       "      <td>241.056818</td>\n",
       "    </tr>\n",
       "    <tr>\n",
       "      <td>6</td>\n",
       "      <td>89</td>\n",
       "      <td>6137</td>\n",
       "      <td>68.955056</td>\n",
       "    </tr>\n",
       "    <tr>\n",
       "      <td>5</td>\n",
       "      <td>87</td>\n",
       "      <td>1375</td>\n",
       "      <td>15.804598</td>\n",
       "    </tr>\n",
       "    <tr>\n",
       "      <td>1</td>\n",
       "      <td>123</td>\n",
       "      <td>897</td>\n",
       "      <td>7.292683</td>\n",
       "    </tr>\n",
       "  </tbody>\n",
       "</table>\n",
       "</div>"
      ],
      "text/plain": [
       "       count_product  total_sales  yearly_average_sales\n",
       "label                                                  \n",
       "3                115       162668           1414.504348\n",
       "4                113        86037            761.389381\n",
       "0                109        57020            523.119266\n",
       "2                 87        39940            459.080460\n",
       "7                 88        21213            241.056818\n",
       "6                 89         6137             68.955056\n",
       "5                 87         1375             15.804598\n",
       "1                123          897              7.292683"
      ]
     },
     "execution_count": 2,
     "metadata": {},
     "output_type": "execute_result"
    }
   ],
   "source": [
    "df_final"
   ]
  },
  {
   "cell_type": "code",
   "execution_count": null,
   "metadata": {},
   "outputs": [],
   "source": []
  }
 ],
 "metadata": {
  "kernelspec": {
   "display_name": "Python 3",
   "language": "python",
   "name": "python3"
  },
  "language_info": {
   "codemirror_mode": {
    "name": "ipython",
    "version": 3
   },
   "file_extension": ".py",
   "mimetype": "text/x-python",
   "name": "python",
   "nbconvert_exporter": "python",
   "pygments_lexer": "ipython3",
   "version": "3.7.6"
  }
 },
 "nbformat": 4,
 "nbformat_minor": 4
}
